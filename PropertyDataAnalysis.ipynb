{
 "cells": [
  {
   "cell_type": "markdown",
   "id": "ca99a127",
   "metadata": {},
   "source": [
    "# Property Data Mining\n",
    "This is a property data mining algorithm using the [Price Paid Data](https://www.gov.uk/government/statistical-data-sets/price-paid-data-downloads) from the goverment statistical database and web scrape from [home.co.uk](home.co.uk) to add further value to each property data\n",
    "\n",
    "### By the end of this notebook, the algorithm should be capable of \n",
    "1. Prcessing the price paid dataset to a relevant format\n",
    "2. Web scrape from home.co.uk to add further detail to the user so that they will be able to make more informed decsions\n",
    "3. We will be training the dataset to be able to predict the price of a property based on the information provided by end-user\n",
    "4. Detect areas of outliers using the trained dataset\n",
    "5. Find possible assossiations within the dataset"
   ]
  },
  {
   "cell_type": "code",
   "execution_count": 1,
   "id": "9ab32b24",
   "metadata": {},
   "outputs": [],
   "source": [
    "import pandas as pd\n",
    "df11 = pd.read_pickle('cached_pp-2011.pkl')\n",
    "df12 = pd.read_pickle('cached_pp-2012.pkl')\n",
    "df13 = pd.read_pickle('cached_pp-2013.pkl')\n",
    "df14 = pd.read_pickle('cached_pp-2014.pkl')\n",
    "df15 = pd.read_pickle('cached_pp-2015.pkl')\n",
    "df16 = pd.read_pickle('cached_pp-2016.pkl')\n",
    "df17 = pd.read_pickle('cached_pp-2017.pkl')\n",
    "df18 = pd.read_pickle('cached_pp-2018.pkl')\n",
    "df19 = pd.read_pickle('cached_pp-2019.pkl')\n",
    "df20 = pd.read_pickle('cached_pp-2020.pkl')\n",
    "df21 = pd.read_pickle('cached_pp-2021.pkl')\n",
    "df22 = pd.read_pickle('cached_pp-2022.pkl')"
   ]
  },
  {
   "cell_type": "code",
   "execution_count": 2,
   "id": "05de218a",
   "metadata": {},
   "outputs": [],
   "source": [
    "def cleandf(df):\n",
    "    df.drop(df.columns[[5,7,8,14,15]], axis = 1, inplace=True)\n",
    "    df = pd.DataFrame(data=df)\n",
    "    df.columns = [\"ID\",\"SALES_PRICE\",\"DATE\",\"POSTCODE\",\"PROPERTY_TYPE\",\"ESTATE_TYPE\",\"STREET\",\"LOCALITY\",\"TOWN/CITY\",\"DISTRICT\",\"COUNTY\"]\n",
    "\n",
    "\n",
    "    df['PROPERTY_TYPE'].map({'T': 'terraced', 'S': 'semi-detached', 'D': 'detached', 'F': 'flat', 'O': 'other'})\n",
    "    df['ESTATE_TYPE'].map({'F': 'FREEHOLD', 'L': 'LEASEHOLD'})\n",
    "    df['PROPERTY_TYPE'] = df['PROPERTY_TYPE'].replace(\"T\", \"TERRACED\")\n",
    "    df['PROPERTY_TYPE'] = df['PROPERTY_TYPE'].replace(\"S\", \"SEMI-DETATCHED\")\n",
    "    df['PROPERTY_TYPE'] = df['PROPERTY_TYPE'].replace(\"D\", \"DETATCHED\")\n",
    "    df['PROPERTY_TYPE'] = df['PROPERTY_TYPE'].replace(\"F\", \"FLAT\")\n",
    "    df['PROPERTY_TYPE'] = df['PROPERTY_TYPE'].replace(\"O\", \"OTHER\")\n",
    "    df['ESTATE_TYPE'] = df['ESTATE_TYPE'].replace(\"F\", \"FREEHOLD\")\n",
    "    df['ESTATE_TYPE'] = df['ESTATE_TYPE'].replace(\"L\", \"LEASEHOLD\")\n",
    "    #df2 = df.loc[:, [\"SALES_PRICE\",\"Town/City\",\"property_type\",\"estate_type\"]]\n",
    "    df = df.sort_values('SALES_PRICE', ascending=False, kind = 'mergesort').drop_duplicates(subset='POSTCODE', keep='first').sort_index()#keeps heighest value of duplicate\n",
    "    return df"
   ]
  },
  {
   "cell_type": "code",
   "execution_count": 3,
   "id": "91075db2",
   "metadata": {},
   "outputs": [],
   "source": [
    "df12 = cleandf(df12)\n",
    "df13 = cleandf(df13)\n",
    "df14 = cleandf(df14)\n",
    "df15 = cleandf(df15)\n",
    "df16 = cleandf(df16)\n",
    "df17 = cleandf(df17)\n",
    "df18 = cleandf(df18)\n",
    "df19 = cleandf(df19)\n",
    "df20 = cleandf(df20)\n",
    "df21 = cleandf(df21)\n",
    "df22 = cleandf(df22)"
   ]
  },
  {
   "cell_type": "code",
   "execution_count": 4,
   "id": "1dce3b7f",
   "metadata": {},
   "outputs": [],
   "source": [
    "def extractByConditions(df):\n",
    "    df = df.loc[(df[\"SALES_PRICE\"] <= 180000) & (df[\"SALES_PRICE\"] >= 140000)]\n",
    "    return df"
   ]
  },
  {
   "cell_type": "code",
   "execution_count": 5,
   "id": "c164668b",
   "metadata": {},
   "outputs": [],
   "source": [
    "df22 = extractByConditions(df22)"
   ]
  },
  {
   "cell_type": "code",
   "execution_count": 6,
   "id": "7654853b",
   "metadata": {},
   "outputs": [],
   "source": [
    "alldf = [df21,df20,df19,df18,df17,df16,df15,df14,df13,df12];\n",
    "combined_df = df22"
   ]
  },
  {
   "cell_type": "code",
   "execution_count": 7,
   "id": "e8b6907e",
   "metadata": {},
   "outputs": [],
   "source": [
    "combined_df = pd.merge(combined_df,alldf[0][['POSTCODE','SALES_PRICE']],on='POSTCODE', how='left')       \n",
    "combined_df.rename(columns={'SALES_PRICE_x': 'SALES_PRICE', 'SALES_PRICE_y': '2021_house_prices'}, inplace=True)\n",
    "combined_df = pd.merge(combined_df,alldf[1][['POSTCODE','SALES_PRICE']],on='POSTCODE', how='left')       \n",
    "combined_df.rename(columns={'SALES_PRICE_x': 'SALES_PRICE', 'SALES_PRICE_y': '2020_house_prices'}, inplace=True)\n",
    "combined_df = pd.merge(combined_df,alldf[2][['POSTCODE','SALES_PRICE']],on='POSTCODE', how='left')\n",
    "combined_df.rename(columns={'SALES_PRICE_x': 'SALES_PRICE', 'SALES_PRICE_y': '2019_house_prices'}, inplace=True)\n",
    "combined_df = pd.merge(combined_df,alldf[3][['POSTCODE','SALES_PRICE']],on='POSTCODE', how='left')\n",
    "combined_df.rename(columns={'SALES_PRICE_x': 'SALES_PRICE', 'SALES_PRICE_y': '2018_house_prices'}, inplace=True)\n",
    "combined_df = pd.merge(combined_df,alldf[4][['POSTCODE','SALES_PRICE']],on='POSTCODE', how='left')\n",
    "combined_df.rename(columns={'SALES_PRICE_x': 'SALES_PRICE', 'SALES_PRICE_y': '2017_house_prices'}, inplace=True)\n",
    "combined_df = pd.merge(combined_df,alldf[5][['POSTCODE','SALES_PRICE']],on='POSTCODE', how='left')\n",
    "combined_df.rename(columns={'SALES_PRICE_x': 'SALES_PRICE', 'SALES_PRICE_y': '2016_house_prices'}, inplace=True)\n",
    "combined_df = pd.merge(combined_df,alldf[6][['POSTCODE','SALES_PRICE']],on='POSTCODE', how='left')\n",
    "combined_df.rename(columns={'SALES_PRICE_x': 'SALES_PRICE', 'SALES_PRICE_y': '2015_house_prices'}, inplace=True)\n",
    "combined_df = pd.merge(combined_df,alldf[7][['POSTCODE','SALES_PRICE']],on='POSTCODE', how='left')\n",
    "combined_df.rename(columns={'SALES_PRICE_x': 'SALES_PRICE', 'SALES_PRICE_y': '2014_house_prices'}, inplace=True)\n",
    "combined_df = pd.merge(combined_df,alldf[8][['POSTCODE','SALES_PRICE']],on='POSTCODE', how='left')\n",
    "combined_df.rename(columns={'SALES_PRICE_x': 'SALES_PRICE', 'SALES_PRICE_y': '2013_house_prices'}, inplace=True)\n",
    "combined_df = pd.merge(combined_df,alldf[9][['POSTCODE','SALES_PRICE']],on='POSTCODE', how='left')\n",
    "combined_df.rename(columns={'SALES_PRICE_x': 'SALES_PRICE', 'SALES_PRICE_y': '2012_house_prices'}, inplace=True)\n",
    "\n"
   ]
  },
  {
   "cell_type": "code",
   "execution_count": 10,
   "id": "4d60e9af",
   "metadata": {},
   "outputs": [
    {
     "name": "stdout",
     "output_type": "stream",
     "text": [
      "Enter the location type your interested in street, Town/City, District or County?town/city\n"
     ]
    },
    {
     "name": "stderr",
     "output_type": "stream",
     "text": [
      "C:\\Users\\wasim\\AppData\\Local\\Temp\\ipykernel_3896\\600691932.py:7: FutureWarning: Indexing with multiple keys (implicitly converted to a tuple of keys) will be deprecated, use a list instead.\n",
      "  locationAverages = combined_df.groupby(inputLocationType)['2012_house_prices', '2013_house_prices', '2014_house_prices', '2015_house_prices', '2016_house_prices', '2017_house_prices', '2018_house_prices', '2019_house_prices', '2020_house_prices', '2021_house_prices', 'SALES_PRICE'].mean()\n"
     ]
    },
    {
     "data": {
      "text/html": [
       "<div>\n",
       "<style scoped>\n",
       "    .dataframe tbody tr th:only-of-type {\n",
       "        vertical-align: middle;\n",
       "    }\n",
       "\n",
       "    .dataframe tbody tr th {\n",
       "        vertical-align: top;\n",
       "    }\n",
       "\n",
       "    .dataframe thead th {\n",
       "        text-align: right;\n",
       "    }\n",
       "</style>\n",
       "<table border=\"1\" class=\"dataframe\">\n",
       "  <thead>\n",
       "    <tr style=\"text-align: right;\">\n",
       "      <th></th>\n",
       "      <th>2012_house_prices</th>\n",
       "      <th>2013_house_prices</th>\n",
       "      <th>2014_house_prices</th>\n",
       "      <th>2015_house_prices</th>\n",
       "      <th>2016_house_prices</th>\n",
       "      <th>2017_house_prices</th>\n",
       "      <th>2018_house_prices</th>\n",
       "      <th>2019_house_prices</th>\n",
       "      <th>2020_house_prices</th>\n",
       "      <th>2021_house_prices</th>\n",
       "      <th>SALES_PRICE</th>\n",
       "    </tr>\n",
       "    <tr>\n",
       "      <th>TOWN/CITY</th>\n",
       "      <th></th>\n",
       "      <th></th>\n",
       "      <th></th>\n",
       "      <th></th>\n",
       "      <th></th>\n",
       "      <th></th>\n",
       "      <th></th>\n",
       "      <th></th>\n",
       "      <th></th>\n",
       "      <th></th>\n",
       "      <th></th>\n",
       "    </tr>\n",
       "  </thead>\n",
       "  <tbody>\n",
       "    <tr>\n",
       "      <th>ABBOTS LANGLEY</th>\n",
       "      <td>100000.000000</td>\n",
       "      <td>95000.000000</td>\n",
       "      <td>120000.000000</td>\n",
       "      <td>149950.000000</td>\n",
       "      <td>174950.000000</td>\n",
       "      <td>257281.000000</td>\n",
       "      <td>NaN</td>\n",
       "      <td>288000.000000</td>\n",
       "      <td>300000.000000</td>\n",
       "      <td>165000.000000</td>\n",
       "      <td>160000.000000</td>\n",
       "    </tr>\n",
       "    <tr>\n",
       "      <th>ABERDARE</th>\n",
       "      <td>95423.035714</td>\n",
       "      <td>81302.631579</td>\n",
       "      <td>86700.000000</td>\n",
       "      <td>86615.760870</td>\n",
       "      <td>92607.352941</td>\n",
       "      <td>108305.852941</td>\n",
       "      <td>94250.769231</td>\n",
       "      <td>146840.972222</td>\n",
       "      <td>112557.500000</td>\n",
       "      <td>142570.318182</td>\n",
       "      <td>156527.622951</td>\n",
       "    </tr>\n",
       "    <tr>\n",
       "      <th>ABERDOVEY</th>\n",
       "      <td>NaN</td>\n",
       "      <td>110000.000000</td>\n",
       "      <td>135000.000000</td>\n",
       "      <td>158555.000000</td>\n",
       "      <td>140000.000000</td>\n",
       "      <td>171250.000000</td>\n",
       "      <td>125000.000000</td>\n",
       "      <td>150000.000000</td>\n",
       "      <td>150000.000000</td>\n",
       "      <td>155000.000000</td>\n",
       "      <td>165000.000000</td>\n",
       "    </tr>\n",
       "    <tr>\n",
       "      <th>ABERGAVENNY</th>\n",
       "      <td>123800.000000</td>\n",
       "      <td>136190.000000</td>\n",
       "      <td>132583.333333</td>\n",
       "      <td>176350.000000</td>\n",
       "      <td>163500.000000</td>\n",
       "      <td>157190.000000</td>\n",
       "      <td>184888.888889</td>\n",
       "      <td>248421.428571</td>\n",
       "      <td>175557.142857</td>\n",
       "      <td>282333.333333</td>\n",
       "      <td>168198.875000</td>\n",
       "    </tr>\n",
       "    <tr>\n",
       "      <th>ABERGELE</th>\n",
       "      <td>107103.846154</td>\n",
       "      <td>103121.875000</td>\n",
       "      <td>105200.000000</td>\n",
       "      <td>107291.176471</td>\n",
       "      <td>112559.375000</td>\n",
       "      <td>121290.000000</td>\n",
       "      <td>120495.652174</td>\n",
       "      <td>115778.125000</td>\n",
       "      <td>123750.000000</td>\n",
       "      <td>144137.500000</td>\n",
       "      <td>163041.060606</td>\n",
       "    </tr>\n",
       "  </tbody>\n",
       "</table>\n",
       "</div>"
      ],
      "text/plain": [
       "                2012_house_prices  2013_house_prices  2014_house_prices  \\\n",
       "TOWN/CITY                                                                 \n",
       "ABBOTS LANGLEY      100000.000000       95000.000000      120000.000000   \n",
       "ABERDARE             95423.035714       81302.631579       86700.000000   \n",
       "ABERDOVEY                     NaN      110000.000000      135000.000000   \n",
       "ABERGAVENNY         123800.000000      136190.000000      132583.333333   \n",
       "ABERGELE            107103.846154      103121.875000      105200.000000   \n",
       "\n",
       "                2015_house_prices  2016_house_prices  2017_house_prices  \\\n",
       "TOWN/CITY                                                                 \n",
       "ABBOTS LANGLEY      149950.000000      174950.000000      257281.000000   \n",
       "ABERDARE             86615.760870       92607.352941      108305.852941   \n",
       "ABERDOVEY           158555.000000      140000.000000      171250.000000   \n",
       "ABERGAVENNY         176350.000000      163500.000000      157190.000000   \n",
       "ABERGELE            107291.176471      112559.375000      121290.000000   \n",
       "\n",
       "                2018_house_prices  2019_house_prices  2020_house_prices  \\\n",
       "TOWN/CITY                                                                 \n",
       "ABBOTS LANGLEY                NaN      288000.000000      300000.000000   \n",
       "ABERDARE             94250.769231      146840.972222      112557.500000   \n",
       "ABERDOVEY           125000.000000      150000.000000      150000.000000   \n",
       "ABERGAVENNY         184888.888889      248421.428571      175557.142857   \n",
       "ABERGELE            120495.652174      115778.125000      123750.000000   \n",
       "\n",
       "                2021_house_prices    SALES_PRICE  \n",
       "TOWN/CITY                                         \n",
       "ABBOTS LANGLEY      165000.000000  160000.000000  \n",
       "ABERDARE            142570.318182  156527.622951  \n",
       "ABERDOVEY           155000.000000  165000.000000  \n",
       "ABERGAVENNY         282333.333333  168198.875000  \n",
       "ABERGELE            144137.500000  163041.060606  "
      ]
     },
     "metadata": {},
     "output_type": "display_data"
    }
   ],
   "source": [
    "inputLocationType = input(\"Enter the location type your interested in street, Town/City, District or County?\")\n",
    "\n",
    "inputLocationType = inputLocationType.upper()\n",
    "\n",
    "allCounties = pd.unique(combined_df[inputLocationType])\n",
    "\n",
    "locationAverages = combined_df.groupby(inputLocationType)['2012_house_prices', '2013_house_prices', '2014_house_prices', '2015_house_prices', '2016_house_prices', '2017_house_prices', '2018_house_prices', '2019_house_prices', '2020_house_prices', '2021_house_prices', 'SALES_PRICE'].mean()\n",
    "\n",
    "display(locationAverages.head())"
   ]
  },
  {
   "cell_type": "code",
   "execution_count": 11,
   "id": "151d9992",
   "metadata": {},
   "outputs": [
    {
     "name": "stdout",
     "output_type": "stream",
     "text": [
      "Enter the name of the town/city, district or county your interested in... \n",
      "southend\n"
     ]
    },
    {
     "ename": "KeyError",
     "evalue": "'SOUTHEND'",
     "output_type": "error",
     "traceback": [
      "\u001b[1;31m---------------------------------------------------------------------------\u001b[0m",
      "\u001b[1;31mKeyError\u001b[0m                                  Traceback (most recent call last)",
      "File \u001b[1;32m~\\AppData\\Local\\Programs\\Python\\Python311\\Lib\\site-packages\\pandas\\core\\indexes\\base.py:3802\u001b[0m, in \u001b[0;36mIndex.get_loc\u001b[1;34m(self, key, method, tolerance)\u001b[0m\n\u001b[0;32m   3801\u001b[0m \u001b[38;5;28;01mtry\u001b[39;00m:\n\u001b[1;32m-> 3802\u001b[0m     \u001b[38;5;28;01mreturn\u001b[39;00m \u001b[38;5;28;43mself\u001b[39;49m\u001b[38;5;241;43m.\u001b[39;49m\u001b[43m_engine\u001b[49m\u001b[38;5;241;43m.\u001b[39;49m\u001b[43mget_loc\u001b[49m\u001b[43m(\u001b[49m\u001b[43mcasted_key\u001b[49m\u001b[43m)\u001b[49m\n\u001b[0;32m   3803\u001b[0m \u001b[38;5;28;01mexcept\u001b[39;00m \u001b[38;5;167;01mKeyError\u001b[39;00m \u001b[38;5;28;01mas\u001b[39;00m err:\n",
      "File \u001b[1;32m~\\AppData\\Local\\Programs\\Python\\Python311\\Lib\\site-packages\\pandas\\_libs\\index.pyx:138\u001b[0m, in \u001b[0;36mpandas._libs.index.IndexEngine.get_loc\u001b[1;34m()\u001b[0m\n",
      "File \u001b[1;32m~\\AppData\\Local\\Programs\\Python\\Python311\\Lib\\site-packages\\pandas\\_libs\\index.pyx:165\u001b[0m, in \u001b[0;36mpandas._libs.index.IndexEngine.get_loc\u001b[1;34m()\u001b[0m\n",
      "File \u001b[1;32mpandas\\_libs\\hashtable_class_helper.pxi:5745\u001b[0m, in \u001b[0;36mpandas._libs.hashtable.PyObjectHashTable.get_item\u001b[1;34m()\u001b[0m\n",
      "File \u001b[1;32mpandas\\_libs\\hashtable_class_helper.pxi:5753\u001b[0m, in \u001b[0;36mpandas._libs.hashtable.PyObjectHashTable.get_item\u001b[1;34m()\u001b[0m\n",
      "\u001b[1;31mKeyError\u001b[0m: 'SOUTHEND'",
      "\nThe above exception was the direct cause of the following exception:\n",
      "\u001b[1;31mKeyError\u001b[0m                                  Traceback (most recent call last)",
      "Cell \u001b[1;32mIn[11], line 3\u001b[0m\n\u001b[0;32m      1\u001b[0m locationInput \u001b[38;5;241m=\u001b[39m \u001b[38;5;28minput\u001b[39m(\u001b[38;5;124m\"\u001b[39m\u001b[38;5;124mEnter the name of the town/city, district or county your interested in... \u001b[39m\u001b[38;5;130;01m\\n\u001b[39;00m\u001b[38;5;124m\"\u001b[39m)\n\u001b[0;32m      2\u001b[0m locationInput \u001b[38;5;241m=\u001b[39m locationInput\u001b[38;5;241m.\u001b[39mupper()\n\u001b[1;32m----> 3\u001b[0m inputLocAvg \u001b[38;5;241m=\u001b[39m \u001b[43mlocationAverages\u001b[49m\u001b[38;5;241;43m.\u001b[39;49m\u001b[43mloc\u001b[49m\u001b[43m[\u001b[49m\u001b[43mlocationInput\u001b[49m\u001b[43m]\u001b[49m \n\u001b[0;32m      4\u001b[0m display(inputLocAvg)\n\u001b[0;32m      5\u001b[0m inputLocAvg\u001b[38;5;241m.\u001b[39mplot(figsize\u001b[38;5;241m=\u001b[39m(\u001b[38;5;241m20\u001b[39m, \u001b[38;5;241m10\u001b[39m))\n",
      "File \u001b[1;32m~\\AppData\\Local\\Programs\\Python\\Python311\\Lib\\site-packages\\pandas\\core\\indexing.py:1073\u001b[0m, in \u001b[0;36m_LocationIndexer.__getitem__\u001b[1;34m(self, key)\u001b[0m\n\u001b[0;32m   1070\u001b[0m axis \u001b[38;5;241m=\u001b[39m \u001b[38;5;28mself\u001b[39m\u001b[38;5;241m.\u001b[39maxis \u001b[38;5;129;01mor\u001b[39;00m \u001b[38;5;241m0\u001b[39m\n\u001b[0;32m   1072\u001b[0m maybe_callable \u001b[38;5;241m=\u001b[39m com\u001b[38;5;241m.\u001b[39mapply_if_callable(key, \u001b[38;5;28mself\u001b[39m\u001b[38;5;241m.\u001b[39mobj)\n\u001b[1;32m-> 1073\u001b[0m \u001b[38;5;28;01mreturn\u001b[39;00m \u001b[38;5;28;43mself\u001b[39;49m\u001b[38;5;241;43m.\u001b[39;49m\u001b[43m_getitem_axis\u001b[49m\u001b[43m(\u001b[49m\u001b[43mmaybe_callable\u001b[49m\u001b[43m,\u001b[49m\u001b[43m \u001b[49m\u001b[43maxis\u001b[49m\u001b[38;5;241;43m=\u001b[39;49m\u001b[43maxis\u001b[49m\u001b[43m)\u001b[49m\n",
      "File \u001b[1;32m~\\AppData\\Local\\Programs\\Python\\Python311\\Lib\\site-packages\\pandas\\core\\indexing.py:1312\u001b[0m, in \u001b[0;36m_LocIndexer._getitem_axis\u001b[1;34m(self, key, axis)\u001b[0m\n\u001b[0;32m   1310\u001b[0m \u001b[38;5;66;03m# fall thru to straight lookup\u001b[39;00m\n\u001b[0;32m   1311\u001b[0m \u001b[38;5;28mself\u001b[39m\u001b[38;5;241m.\u001b[39m_validate_key(key, axis)\n\u001b[1;32m-> 1312\u001b[0m \u001b[38;5;28;01mreturn\u001b[39;00m \u001b[38;5;28;43mself\u001b[39;49m\u001b[38;5;241;43m.\u001b[39;49m\u001b[43m_get_label\u001b[49m\u001b[43m(\u001b[49m\u001b[43mkey\u001b[49m\u001b[43m,\u001b[49m\u001b[43m \u001b[49m\u001b[43maxis\u001b[49m\u001b[38;5;241;43m=\u001b[39;49m\u001b[43maxis\u001b[49m\u001b[43m)\u001b[49m\n",
      "File \u001b[1;32m~\\AppData\\Local\\Programs\\Python\\Python311\\Lib\\site-packages\\pandas\\core\\indexing.py:1260\u001b[0m, in \u001b[0;36m_LocIndexer._get_label\u001b[1;34m(self, label, axis)\u001b[0m\n\u001b[0;32m   1258\u001b[0m \u001b[38;5;28;01mdef\u001b[39;00m \u001b[38;5;21m_get_label\u001b[39m(\u001b[38;5;28mself\u001b[39m, label, axis: \u001b[38;5;28mint\u001b[39m):\n\u001b[0;32m   1259\u001b[0m     \u001b[38;5;66;03m# GH#5567 this will fail if the label is not present in the axis.\u001b[39;00m\n\u001b[1;32m-> 1260\u001b[0m     \u001b[38;5;28;01mreturn\u001b[39;00m \u001b[38;5;28;43mself\u001b[39;49m\u001b[38;5;241;43m.\u001b[39;49m\u001b[43mobj\u001b[49m\u001b[38;5;241;43m.\u001b[39;49m\u001b[43mxs\u001b[49m\u001b[43m(\u001b[49m\u001b[43mlabel\u001b[49m\u001b[43m,\u001b[49m\u001b[43m \u001b[49m\u001b[43maxis\u001b[49m\u001b[38;5;241;43m=\u001b[39;49m\u001b[43maxis\u001b[49m\u001b[43m)\u001b[49m\n",
      "File \u001b[1;32m~\\AppData\\Local\\Programs\\Python\\Python311\\Lib\\site-packages\\pandas\\core\\generic.py:4056\u001b[0m, in \u001b[0;36mNDFrame.xs\u001b[1;34m(self, key, axis, level, drop_level)\u001b[0m\n\u001b[0;32m   4054\u001b[0m             new_index \u001b[38;5;241m=\u001b[39m index[loc]\n\u001b[0;32m   4055\u001b[0m \u001b[38;5;28;01melse\u001b[39;00m:\n\u001b[1;32m-> 4056\u001b[0m     loc \u001b[38;5;241m=\u001b[39m \u001b[43mindex\u001b[49m\u001b[38;5;241;43m.\u001b[39;49m\u001b[43mget_loc\u001b[49m\u001b[43m(\u001b[49m\u001b[43mkey\u001b[49m\u001b[43m)\u001b[49m\n\u001b[0;32m   4058\u001b[0m     \u001b[38;5;28;01mif\u001b[39;00m \u001b[38;5;28misinstance\u001b[39m(loc, np\u001b[38;5;241m.\u001b[39mndarray):\n\u001b[0;32m   4059\u001b[0m         \u001b[38;5;28;01mif\u001b[39;00m loc\u001b[38;5;241m.\u001b[39mdtype \u001b[38;5;241m==\u001b[39m np\u001b[38;5;241m.\u001b[39mbool_:\n",
      "File \u001b[1;32m~\\AppData\\Local\\Programs\\Python\\Python311\\Lib\\site-packages\\pandas\\core\\indexes\\base.py:3804\u001b[0m, in \u001b[0;36mIndex.get_loc\u001b[1;34m(self, key, method, tolerance)\u001b[0m\n\u001b[0;32m   3802\u001b[0m     \u001b[38;5;28;01mreturn\u001b[39;00m \u001b[38;5;28mself\u001b[39m\u001b[38;5;241m.\u001b[39m_engine\u001b[38;5;241m.\u001b[39mget_loc(casted_key)\n\u001b[0;32m   3803\u001b[0m \u001b[38;5;28;01mexcept\u001b[39;00m \u001b[38;5;167;01mKeyError\u001b[39;00m \u001b[38;5;28;01mas\u001b[39;00m err:\n\u001b[1;32m-> 3804\u001b[0m     \u001b[38;5;28;01mraise\u001b[39;00m \u001b[38;5;167;01mKeyError\u001b[39;00m(key) \u001b[38;5;28;01mfrom\u001b[39;00m \u001b[38;5;21;01merr\u001b[39;00m\n\u001b[0;32m   3805\u001b[0m \u001b[38;5;28;01mexcept\u001b[39;00m \u001b[38;5;167;01mTypeError\u001b[39;00m:\n\u001b[0;32m   3806\u001b[0m     \u001b[38;5;66;03m# If we have a listlike key, _check_indexing_error will raise\u001b[39;00m\n\u001b[0;32m   3807\u001b[0m     \u001b[38;5;66;03m#  InvalidIndexError. Otherwise we fall through and re-raise\u001b[39;00m\n\u001b[0;32m   3808\u001b[0m     \u001b[38;5;66;03m#  the TypeError.\u001b[39;00m\n\u001b[0;32m   3809\u001b[0m     \u001b[38;5;28mself\u001b[39m\u001b[38;5;241m.\u001b[39m_check_indexing_error(key)\n",
      "\u001b[1;31mKeyError\u001b[0m: 'SOUTHEND'"
     ]
    }
   ],
   "source": [
    "locationInput = input(\"Enter the name of the town/city, district or county your interested in... \\n\")\n",
    "locationInput = locationInput.upper()\n",
    "inputLocAvg = locationAverages.loc[locationInput] \n",
    "display(inputLocAvg)\n",
    "inputLocAvg.plot(figsize=(20, 10))"
   ]
  },
  {
   "cell_type": "code",
   "execution_count": null,
   "id": "6fb11e78",
   "metadata": {},
   "outputs": [],
   "source": [
    "df21_df22 = pd.merge(df22,df21[['POSTCODE','SALES_PRICE']],on='POSTCODE', how='left')       \n",
    "df21_df22.loc[df21_df22['TOWN/CITY'] == 'ROMFORD']"
   ]
  },
  {
   "cell_type": "code",
   "execution_count": null,
   "id": "619fa9b6",
   "metadata": {},
   "outputs": [],
   "source": []
  }
 ],
 "metadata": {
  "kernelspec": {
   "display_name": "Python 3 (ipykernel)",
   "language": "python",
   "name": "python3"
  },
  "language_info": {
   "codemirror_mode": {
    "name": "ipython",
    "version": 3
   },
   "file_extension": ".py",
   "mimetype": "text/x-python",
   "name": "python",
   "nbconvert_exporter": "python",
   "pygments_lexer": "ipython3",
   "version": "3.11.1"
  }
 },
 "nbformat": 4,
 "nbformat_minor": 5
}
