{
 "cells": [
  {
   "cell_type": "markdown",
   "id": "ca99a127",
   "metadata": {},
   "source": [
    "# Property Data Mining\n",
    "This is a property data mining algorithm using the [Price Paid Data](https://www.gov.uk/government/statistical-data-sets/price-paid-data-downloads) from the goverment statistical database and web scrape from [home.co.uk](home.co.uk) to add further value to each property data\n",
    "\n",
    "### By the end of this notebook, the algorithm should be capable of \n",
    "1. Prcessing the price paid dataset to a relevant format\n",
    "2. Web scrape from home.co.uk to add further detail to the user so that they will be able to make more informed decsions\n",
    "3. We will be training the dataset to be able to predict the price of a property based on the information provided by end-user\n",
    "4. Detect areas of outliers using the trained dataset\n",
    "5. Find possible assossiations within the dataset"
   ]
  },
  {
   "cell_type": "code",
   "execution_count": 1,
   "id": "d1dff625",
   "metadata": {},
   "outputs": [
    {
     "name": "stdout",
     "output_type": "stream",
     "text": [
      "Requirement already satisfied: pandas in /opt/homebrew/lib/python3.10/site-packages (1.5.3)\r\n",
      "Requirement already satisfied: pytz>=2020.1 in /opt/homebrew/lib/python3.10/site-packages (from pandas) (2022.7.1)\r\n",
      "Requirement already satisfied: python-dateutil>=2.8.1 in /opt/homebrew/lib/python3.10/site-packages (from pandas) (2.8.2)\r\n",
      "Requirement already satisfied: numpy>=1.21.0 in /opt/homebrew/lib/python3.10/site-packages (from pandas) (1.24.2)\r\n",
      "Requirement already satisfied: six>=1.5 in /opt/homebrew/lib/python3.10/site-packages (from python-dateutil>=2.8.1->pandas) (1.16.0)\r\n"
     ]
    }
   ],
   "source": [
    "!pip install pandas"
   ]
  },
  {
   "cell_type": "code",
   "execution_count": 2,
   "id": "9ab32b24",
   "metadata": {},
   "outputs": [],
   "source": [
    "import pandas as pd\n",
    "df11 = pd.read_pickle('cached_pp-2011.pkl')\n",
    "df12 = pd.read_pickle('cached_pp-2012.pkl')\n",
    "df13 = pd.read_pickle('cached_pp-2013.pkl')\n",
    "df14 = pd.read_pickle('cached_pp-2014.pkl')\n",
    "df15 = pd.read_pickle('cached_pp-2015.pkl')\n",
    "df16 = pd.read_pickle('cached_pp-2016.pkl')\n",
    "df17 = pd.read_pickle('cached_pp-2017.pkl')\n",
    "df18 = pd.read_pickle('cached_pp-2018.pkl')\n",
    "df19 = pd.read_pickle('cached_pp-2019.pkl')\n",
    "df20 = pd.read_pickle('cached_pp-2020.pkl')\n",
    "df21 = pd.read_pickle('cached_pp-2021.pkl')\n",
    "df22 = pd.read_pickle('cached_pp-2022.pkl')"
   ]
  },
  {
   "cell_type": "code",
   "execution_count": 3,
   "id": "05de218a",
   "metadata": {},
   "outputs": [],
   "source": [
    "def cleandf(df):\n",
    "    df.drop(df.columns[[5,7,8,14,15]], axis = 1, inplace=True)\n",
    "    df = pd.DataFrame(data=df)\n",
    "    df.columns = [\"ID\",\"SALES_PRICE\",\"DATE\",\"POSTCODE\",\"PROPERTY_TYPE\",\"ESTATE_TYPE\",\"STREET\",\"LOCALITY\",\"TOWN/CITY\",\"DISTRICT\",\"COUNTY\"]\n",
    "\n",
    "\n",
    "    df['PROPERTY_TYPE'].map({'T': 'terraced', 'S': 'semi-detached', 'D': 'detached', 'F': 'flat', 'O': 'other'})\n",
    "    df['ESTATE_TYPE'].map({'F': 'FREEHOLD', 'L': 'LEASEHOLD'})\n",
    "    df['PROPERTY_TYPE'] = df['PROPERTY_TYPE'].replace(\"T\", \"TERRACED\")\n",
    "    df['PROPERTY_TYPE'] = df['PROPERTY_TYPE'].replace(\"S\", \"SEMI-DETATCHED\")\n",
    "    df['PROPERTY_TYPE'] = df['PROPERTY_TYPE'].replace(\"D\", \"DETATCHED\")\n",
    "    df['PROPERTY_TYPE'] = df['PROPERTY_TYPE'].replace(\"F\", \"FLAT\")\n",
    "    df['PROPERTY_TYPE'] = df['PROPERTY_TYPE'].replace(\"O\", \"OTHER\")\n",
    "    df['ESTATE_TYPE'] = df['ESTATE_TYPE'].replace(\"F\", \"FREEHOLD\")\n",
    "    df['ESTATE_TYPE'] = df['ESTATE_TYPE'].replace(\"L\", \"LEASEHOLD\")\n",
    "    #df2 = df.loc[:, [\"SALES_PRICE\",\"Town/City\",\"property_type\",\"estate_type\"]]\n",
    "    df = df.sort_values('SALES_PRICE', ascending=False, kind = 'mergesort').drop_duplicates(subset='POSTCODE', keep='first').sort_index()#keeps heighest value of duplicate\n",
    "    return df"
   ]
  },
  {
   "cell_type": "code",
   "execution_count": 4,
   "id": "91075db2",
   "metadata": {},
   "outputs": [],
   "source": [
    "df12 = cleandf(df12)\n",
    "df13 = cleandf(df13)\n",
    "df14 = cleandf(df14)\n",
    "df15 = cleandf(df15)\n",
    "df16 = cleandf(df16)\n",
    "df17 = cleandf(df17)\n",
    "df18 = cleandf(df18)\n",
    "df19 = cleandf(df19)\n",
    "df20 = cleandf(df20)\n",
    "df21 = cleandf(df21)\n",
    "df22 = cleandf(df22)"
   ]
  },
  {
   "cell_type": "code",
   "execution_count": 5,
   "id": "1dce3b7f",
   "metadata": {},
   "outputs": [],
   "source": [
    "def extractByConditions(df):\n",
    "    df = df.loc[(df[\"SALES_PRICE\"] <= 180000) & (df[\"SALES_PRICE\"] >= 140000)]\n",
    "    return df"
   ]
  },
  {
   "cell_type": "code",
   "execution_count": 6,
   "id": "c164668b",
   "metadata": {},
   "outputs": [],
   "source": [
    "df22 = extractByConditions(df22)"
   ]
  },
  {
   "cell_type": "code",
   "execution_count": 7,
   "id": "7654853b",
   "metadata": {},
   "outputs": [],
   "source": [
    "alldf = [df21,df20,df19,df18,df17,df16,df15,df14,df13,df12];\n",
    "combined_df = df22"
   ]
  },
  {
   "cell_type": "code",
   "execution_count": 8,
   "id": "e8b6907e",
   "metadata": {},
   "outputs": [],
   "source": [
    "combined_df = pd.merge(combined_df,alldf[0][['POSTCODE','SALES_PRICE']],on='POSTCODE', how='left')       \n",
    "combined_df.rename(columns={'SALES_PRICE_x': 'SALES_PRICE', 'SALES_PRICE_y': '2021_house_prices'}, inplace=True)\n",
    "combined_df = pd.merge(combined_df,alldf[1][['POSTCODE','SALES_PRICE']],on='POSTCODE', how='left')       \n",
    "combined_df.rename(columns={'SALES_PRICE_x': 'SALES_PRICE', 'SALES_PRICE_y': '2020_house_prices'}, inplace=True)\n",
    "combined_df = pd.merge(combined_df,alldf[2][['POSTCODE','SALES_PRICE']],on='POSTCODE', how='left')\n",
    "combined_df.rename(columns={'SALES_PRICE_x': 'SALES_PRICE', 'SALES_PRICE_y': '2019_house_prices'}, inplace=True)\n",
    "combined_df = pd.merge(combined_df,alldf[3][['POSTCODE','SALES_PRICE']],on='POSTCODE', how='left')\n",
    "combined_df.rename(columns={'SALES_PRICE_x': 'SALES_PRICE', 'SALES_PRICE_y': '2018_house_prices'}, inplace=True)\n",
    "combined_df = pd.merge(combined_df,alldf[4][['POSTCODE','SALES_PRICE']],on='POSTCODE', how='left')\n",
    "combined_df.rename(columns={'SALES_PRICE_x': 'SALES_PRICE', 'SALES_PRICE_y': '2017_house_prices'}, inplace=True)\n",
    "combined_df = pd.merge(combined_df,alldf[5][['POSTCODE','SALES_PRICE']],on='POSTCODE', how='left')\n",
    "combined_df.rename(columns={'SALES_PRICE_x': 'SALES_PRICE', 'SALES_PRICE_y': '2016_house_prices'}, inplace=True)\n",
    "combined_df = pd.merge(combined_df,alldf[6][['POSTCODE','SALES_PRICE']],on='POSTCODE', how='left')\n",
    "combined_df.rename(columns={'SALES_PRICE_x': 'SALES_PRICE', 'SALES_PRICE_y': '2015_house_prices'}, inplace=True)\n",
    "combined_df = pd.merge(combined_df,alldf[7][['POSTCODE','SALES_PRICE']],on='POSTCODE', how='left')\n",
    "combined_df.rename(columns={'SALES_PRICE_x': 'SALES_PRICE', 'SALES_PRICE_y': '2014_house_prices'}, inplace=True)\n",
    "combined_df = pd.merge(combined_df,alldf[8][['POSTCODE','SALES_PRICE']],on='POSTCODE', how='left')\n",
    "combined_df.rename(columns={'SALES_PRICE_x': 'SALES_PRICE', 'SALES_PRICE_y': '2013_house_prices'}, inplace=True)\n",
    "combined_df = pd.merge(combined_df,alldf[9][['POSTCODE','SALES_PRICE']],on='POSTCODE', how='left')\n",
    "combined_df.rename(columns={'SALES_PRICE_x': 'SALES_PRICE', 'SALES_PRICE_y': '2012_house_prices'}, inplace=True)\n",
    "\n"
   ]
  },
  {
   "cell_type": "code",
   "execution_count": 9,
   "id": "4d60e9af",
   "metadata": {},
   "outputs": [
    {
     "name": "stdout",
     "output_type": "stream",
     "text": [
      "Enter the location type your interested in street, Town/City, District or County?Town/City\n"
     ]
    },
    {
     "name": "stderr",
     "output_type": "stream",
     "text": [
      "/var/folders/05/05dzw5_j2zq8h0c8lstyp4v40000gn/T/ipykernel_99954/600691932.py:7: FutureWarning: Indexing with multiple keys (implicitly converted to a tuple of keys) will be deprecated, use a list instead.\n",
      "  locationAverages = combined_df.groupby(inputLocationType)['2012_house_prices', '2013_house_prices', '2014_house_prices', '2015_house_prices', '2016_house_prices', '2017_house_prices', '2018_house_prices', '2019_house_prices', '2020_house_prices', '2021_house_prices', 'SALES_PRICE'].mean()\n"
     ]
    },
    {
     "data": {
      "text/html": [
       "<div>\n",
       "<style scoped>\n",
       "    .dataframe tbody tr th:only-of-type {\n",
       "        vertical-align: middle;\n",
       "    }\n",
       "\n",
       "    .dataframe tbody tr th {\n",
       "        vertical-align: top;\n",
       "    }\n",
       "\n",
       "    .dataframe thead th {\n",
       "        text-align: right;\n",
       "    }\n",
       "</style>\n",
       "<table border=\"1\" class=\"dataframe\">\n",
       "  <thead>\n",
       "    <tr style=\"text-align: right;\">\n",
       "      <th></th>\n",
       "      <th>2012_house_prices</th>\n",
       "      <th>2013_house_prices</th>\n",
       "      <th>2014_house_prices</th>\n",
       "      <th>2015_house_prices</th>\n",
       "      <th>2016_house_prices</th>\n",
       "      <th>2017_house_prices</th>\n",
       "      <th>2018_house_prices</th>\n",
       "      <th>2019_house_prices</th>\n",
       "      <th>2020_house_prices</th>\n",
       "      <th>2021_house_prices</th>\n",
       "      <th>SALES_PRICE</th>\n",
       "    </tr>\n",
       "    <tr>\n",
       "      <th>TOWN/CITY</th>\n",
       "      <th></th>\n",
       "      <th></th>\n",
       "      <th></th>\n",
       "      <th></th>\n",
       "      <th></th>\n",
       "      <th></th>\n",
       "      <th></th>\n",
       "      <th></th>\n",
       "      <th></th>\n",
       "      <th></th>\n",
       "      <th></th>\n",
       "    </tr>\n",
       "  </thead>\n",
       "  <tbody>\n",
       "    <tr>\n",
       "      <th>ABBOTS LANGLEY</th>\n",
       "      <td>100000.000000</td>\n",
       "      <td>95000.000000</td>\n",
       "      <td>120000.000000</td>\n",
       "      <td>149950.000000</td>\n",
       "      <td>174950.000000</td>\n",
       "      <td>257281.000000</td>\n",
       "      <td>NaN</td>\n",
       "      <td>288000.000000</td>\n",
       "      <td>300000.000000</td>\n",
       "      <td>165000.000000</td>\n",
       "      <td>160000.000000</td>\n",
       "    </tr>\n",
       "    <tr>\n",
       "      <th>ABERDARE</th>\n",
       "      <td>95423.035714</td>\n",
       "      <td>81302.631579</td>\n",
       "      <td>86700.000000</td>\n",
       "      <td>86615.760870</td>\n",
       "      <td>92607.352941</td>\n",
       "      <td>108305.852941</td>\n",
       "      <td>94250.769231</td>\n",
       "      <td>146840.972222</td>\n",
       "      <td>112557.500000</td>\n",
       "      <td>142570.318182</td>\n",
       "      <td>156527.622951</td>\n",
       "    </tr>\n",
       "    <tr>\n",
       "      <th>ABERDOVEY</th>\n",
       "      <td>NaN</td>\n",
       "      <td>110000.000000</td>\n",
       "      <td>135000.000000</td>\n",
       "      <td>158555.000000</td>\n",
       "      <td>140000.000000</td>\n",
       "      <td>171250.000000</td>\n",
       "      <td>125000.000000</td>\n",
       "      <td>150000.000000</td>\n",
       "      <td>150000.000000</td>\n",
       "      <td>155000.000000</td>\n",
       "      <td>165000.000000</td>\n",
       "    </tr>\n",
       "    <tr>\n",
       "      <th>ABERGAVENNY</th>\n",
       "      <td>123800.000000</td>\n",
       "      <td>136190.000000</td>\n",
       "      <td>132583.333333</td>\n",
       "      <td>176350.000000</td>\n",
       "      <td>163500.000000</td>\n",
       "      <td>157190.000000</td>\n",
       "      <td>184888.888889</td>\n",
       "      <td>248421.428571</td>\n",
       "      <td>175557.142857</td>\n",
       "      <td>282333.333333</td>\n",
       "      <td>168198.875000</td>\n",
       "    </tr>\n",
       "    <tr>\n",
       "      <th>ABERGELE</th>\n",
       "      <td>107103.846154</td>\n",
       "      <td>103121.875000</td>\n",
       "      <td>105200.000000</td>\n",
       "      <td>107291.176471</td>\n",
       "      <td>112559.375000</td>\n",
       "      <td>121290.000000</td>\n",
       "      <td>120495.652174</td>\n",
       "      <td>115778.125000</td>\n",
       "      <td>123750.000000</td>\n",
       "      <td>144137.500000</td>\n",
       "      <td>163041.060606</td>\n",
       "    </tr>\n",
       "  </tbody>\n",
       "</table>\n",
       "</div>"
      ],
      "text/plain": [
       "                2012_house_prices  2013_house_prices  2014_house_prices  \\\n",
       "TOWN/CITY                                                                 \n",
       "ABBOTS LANGLEY      100000.000000       95000.000000      120000.000000   \n",
       "ABERDARE             95423.035714       81302.631579       86700.000000   \n",
       "ABERDOVEY                     NaN      110000.000000      135000.000000   \n",
       "ABERGAVENNY         123800.000000      136190.000000      132583.333333   \n",
       "ABERGELE            107103.846154      103121.875000      105200.000000   \n",
       "\n",
       "                2015_house_prices  2016_house_prices  2017_house_prices  \\\n",
       "TOWN/CITY                                                                 \n",
       "ABBOTS LANGLEY      149950.000000      174950.000000      257281.000000   \n",
       "ABERDARE             86615.760870       92607.352941      108305.852941   \n",
       "ABERDOVEY           158555.000000      140000.000000      171250.000000   \n",
       "ABERGAVENNY         176350.000000      163500.000000      157190.000000   \n",
       "ABERGELE            107291.176471      112559.375000      121290.000000   \n",
       "\n",
       "                2018_house_prices  2019_house_prices  2020_house_prices  \\\n",
       "TOWN/CITY                                                                 \n",
       "ABBOTS LANGLEY                NaN      288000.000000      300000.000000   \n",
       "ABERDARE             94250.769231      146840.972222      112557.500000   \n",
       "ABERDOVEY           125000.000000      150000.000000      150000.000000   \n",
       "ABERGAVENNY         184888.888889      248421.428571      175557.142857   \n",
       "ABERGELE            120495.652174      115778.125000      123750.000000   \n",
       "\n",
       "                2021_house_prices    SALES_PRICE  \n",
       "TOWN/CITY                                         \n",
       "ABBOTS LANGLEY      165000.000000  160000.000000  \n",
       "ABERDARE            142570.318182  156527.622951  \n",
       "ABERDOVEY           155000.000000  165000.000000  \n",
       "ABERGAVENNY         282333.333333  168198.875000  \n",
       "ABERGELE            144137.500000  163041.060606  "
      ]
     },
     "metadata": {},
     "output_type": "display_data"
    }
   ],
   "source": [
    "inputLocationType = input(\"Enter the location type your interested in street, Town/City, District or County?\")\n",
    "\n",
    "inputLocationType = inputLocationType.upper()\n",
    "\n",
    "allCounties = pd.unique(combined_df[inputLocationType])\n",
    "\n",
    "locationAverages = combined_df.groupby(inputLocationType)['2012_house_prices', '2013_house_prices', '2014_house_prices', '2015_house_prices', '2016_house_prices', '2017_house_prices', '2018_house_prices', '2019_house_prices', '2020_house_prices', '2021_house_prices', 'SALES_PRICE'].mean()\n",
    "\n",
    "display(locationAverages.head())"
   ]
  },
  {
   "cell_type": "code",
   "execution_count": 11,
   "id": "2ba84271",
   "metadata": {},
   "outputs": [
    {
     "name": "stdout",
     "output_type": "stream",
     "text": [
      "Collecting matplotlib\n",
      "  Downloading matplotlib-3.6.3-cp310-cp310-macosx_11_0_arm64.whl (7.2 MB)\n",
      "\u001b[2K     \u001b[90m━━━━━━━━━━━━━━━━━━━━━━━━━━━━━━━━━━━━━━━━\u001b[0m \u001b[32m7.2/7.2 MB\u001b[0m \u001b[31m6.7 MB/s\u001b[0m eta \u001b[36m0:00:00\u001b[0m00:01\u001b[0m00:01\u001b[0m\n",
      "\u001b[?25hCollecting pillow>=6.2.0\n",
      "  Downloading Pillow-9.4.0-cp310-cp310-macosx_11_0_arm64.whl (3.0 MB)\n",
      "\u001b[2K     \u001b[90m━━━━━━━━━━━━━━━━━━━━━━━━━━━━━━━━━━━━━━━━\u001b[0m \u001b[32m3.0/3.0 MB\u001b[0m \u001b[31m7.9 MB/s\u001b[0m eta \u001b[36m0:00:00\u001b[0ma \u001b[36m0:00:01\u001b[0mm\n",
      "\u001b[?25hCollecting contourpy>=1.0.1\n",
      "  Downloading contourpy-1.0.7-cp310-cp310-macosx_11_0_arm64.whl (229 kB)\n",
      "\u001b[2K     \u001b[90m━━━━━━━━━━━━━━━━━━━━━━━━━━━━━━━━━━━━━━━\u001b[0m \u001b[32m229.7/229.7 kB\u001b[0m \u001b[31m1.8 MB/s\u001b[0m eta \u001b[36m0:00:00\u001b[0m00:01\u001b[0m00:01\u001b[0m\n",
      "\u001b[?25hCollecting fonttools>=4.22.0\n",
      "  Downloading fonttools-4.38.0-py3-none-any.whl (965 kB)\n",
      "\u001b[2K     \u001b[90m━━━━━━━━━━━━━━━━━━━━━━━━━━━━━━━━━━━━━━━\u001b[0m \u001b[32m965.4/965.4 kB\u001b[0m \u001b[31m3.3 MB/s\u001b[0m eta \u001b[36m0:00:00\u001b[0m00:01\u001b[0m00:01\u001b[0m\n",
      "\u001b[?25hRequirement already satisfied: packaging>=20.0 in /opt/homebrew/lib/python3.10/site-packages (from matplotlib) (23.0)\n",
      "Collecting kiwisolver>=1.0.1\n",
      "  Downloading kiwisolver-1.4.4-cp310-cp310-macosx_11_0_arm64.whl (63 kB)\n",
      "\u001b[2K     \u001b[90m━━━━━━━━━━━━━━━━━━━━━━━━━━━━━━━━━━━━━━━━\u001b[0m \u001b[32m63.2/63.2 kB\u001b[0m \u001b[31m1.9 MB/s\u001b[0m eta \u001b[36m0:00:00\u001b[0m\n",
      "\u001b[?25hCollecting cycler>=0.10\n",
      "  Downloading cycler-0.11.0-py3-none-any.whl (6.4 kB)\n",
      "Collecting pyparsing>=2.2.1\n",
      "  Downloading pyparsing-3.0.9-py3-none-any.whl (98 kB)\n",
      "\u001b[2K     \u001b[90m━━━━━━━━━━━━━━━━━━━━━━━━━━━━━━━━━━━━━━━━\u001b[0m \u001b[32m98.3/98.3 kB\u001b[0m \u001b[31m3.0 MB/s\u001b[0m eta \u001b[36m0:00:00\u001b[0m\n",
      "\u001b[?25hRequirement already satisfied: python-dateutil>=2.7 in /opt/homebrew/lib/python3.10/site-packages (from matplotlib) (2.8.2)\n",
      "Requirement already satisfied: numpy>=1.19 in /opt/homebrew/lib/python3.10/site-packages (from matplotlib) (1.24.2)\n",
      "Requirement already satisfied: six>=1.5 in /opt/homebrew/lib/python3.10/site-packages (from python-dateutil>=2.7->matplotlib) (1.16.0)\n",
      "Installing collected packages: pyparsing, pillow, kiwisolver, fonttools, cycler, contourpy, matplotlib\n",
      "Successfully installed contourpy-1.0.7 cycler-0.11.0 fonttools-4.38.0 kiwisolver-1.4.4 matplotlib-3.6.3 pillow-9.4.0 pyparsing-3.0.9\n"
     ]
    }
   ],
   "source": [
    "!pip install matplotlib"
   ]
  },
  {
   "cell_type": "code",
   "execution_count": 15,
   "id": "151d9992",
   "metadata": {},
   "outputs": [
    {
     "name": "stdout",
     "output_type": "stream",
     "text": [
      "Enter the name of the town/city, district or county your interested in... \n",
      "london\n"
     ]
    },
    {
     "data": {
      "text/plain": [
       "2012_house_prices    260485.416667\n",
       "2013_house_prices    281848.701299\n",
       "2014_house_prices    382743.574468\n",
       "2015_house_prices    491406.000000\n",
       "2016_house_prices    468066.833333\n",
       "2017_house_prices    592280.833333\n",
       "2018_house_prices    665098.900000\n",
       "2019_house_prices    548988.401786\n",
       "2020_house_prices    664172.800000\n",
       "2021_house_prices    774174.767857\n",
       "SALES_PRICE          161343.325243\n",
       "Name: LONDON, dtype: float64"
      ]
     },
     "metadata": {},
     "output_type": "display_data"
    },
    {
     "data": {
      "text/plain": [
       "<AxesSubplot: >"
      ]
     },
     "execution_count": 15,
     "metadata": {},
     "output_type": "execute_result"
    },
    {
     "data": {
      "image/png": "[encoded data removed]",
      "text/plain": [
       "<Figure size 2000x1000 with 1 Axes>"
      ]
     },
     "metadata": {},
     "output_type": "display_data"
    }
   ],
   "source": [
    "locationInput = input(\"Enter the name of the town/city, district or county your interested in... \\n\")\n",
    "locationInput = locationInput.upper()\n",
    "inputLocAvg = locationAverages.loc[locationInput] \n",
    "display(inputLocAvg)\n",
    "inputLocAvg.plot(figsize=(20, 10))"
   ]
  },
  {
   "cell_type": "code",
   "execution_count": null,
   "id": "6fb11e78",
   "metadata": {},
   "outputs": [],
   "source": [
    "df21_df22 = pd.merge(df22,df21[['POSTCODE','SALES_PRICE']],on='POSTCODE', how='left')       \n",
    "df21_df22.loc[df21_df22['TOWN/CITY'] == 'ROMFORD']"
   ]
  },
  {
   "cell_type": "code",
   "execution_count": null,
   "id": "619fa9b6",
   "metadata": {},
   "outputs": [],
   "source": []
  }
 ],
 "metadata": {
  "kernelspec": {
   "display_name": "Python 3 (ipykernel)",
   "language": "python",
   "name": "python3"
  },
  "language_info": {
   "codemirror_mode": {
    "name": "ipython",
    "version": 3
   },
   "file_extension": ".py",
   "mimetype": "text/x-python",
   "name": "python",
   "nbconvert_exporter": "python",
   "pygments_lexer": "ipython3",
   "version": "3.10.9"
  }
 },
 "nbformat": 4,
 "nbformat_minor": 5
}
